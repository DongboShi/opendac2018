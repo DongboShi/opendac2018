{
 "cells": [
  {
   "cell_type": "code",
   "execution_count": 1,
   "metadata": {},
   "outputs": [],
   "source": [
    "import os\n",
    "import pandas as pd\n",
    "import json\n",
    "import tools\n",
    "import numpy as np\n",
    "# from sklearn import svm\n",
    "# import sklearn.model_selection as sm\n",
    "from settings import *\n",
    "from unionfind import UnionFind\n",
    "from collections import defaultdict, Counter\n"
   ]
  },
  {
   "cell_type": "markdown",
   "metadata": {},
   "source": [
    "本程序使用python3, 需要使用的包在`requirements.txt`.  代码中有用到来自论文 Name Disambiguation in AMiner: Clustering, Maintenance, and Human in the Loop的[示例代码](https://github.com/zhysora/BUAALAB_IN_WDQ), 半监督聚类的代码改动自[这里](https://github.com/datamole-ai/active-semi-supervised-clustering).  \n",
    "\n",
    "\n",
    "首先需要创建一个`data`目录,并将数据都放到里面, 数据在[这里可以下载到](https://biendata.com/competition/scholar2018/data/).     \n",
    "\n",
    "## 准备中间数据文件 "
   ]
  },
  {
   "cell_type": "code",
   "execution_count": 2,
   "metadata": {},
   "outputs": [],
   "source": [
    "pubs = [pubs_validate_path, pubs_test_path]\n",
    "awaits = [VAL_NAME2PUB, TEST_NAME2PUB]\n",
    "for i in range(2):\n",
    "    pubdata = json.load(open(pubs[i]))\n",
    "    name2pub = defaultdict(list)\n",
    "    for name, papers in pubdata.items():\n",
    "        for paper in papers:\n",
    "            name2pub[name].append(paper['id'])\n",
    "    json.dump(name2pub, open(awaits[i], 'w'))"
   ]
  },
  {
   "cell_type": "markdown",
   "metadata": {},
   "source": [
    "\n",
    "\n",
    "# 利用强规则生成Pair-wise constraint  \n",
    "\n"
   ]
  },
  {
   "cell_type": "code",
   "execution_count": 9,
   "metadata": {},
   "outputs": [],
   "source": [
    "import rules.pos\n",
    "correct, wrong = rules.pos.generate_positive_pair() "
   ]
  },
  {
   "cell_type": "markdown",
   "metadata": {},
   "source": [
    "# 全局度量学习 Global metric learning  \n",
    "\n",
    "请直接执行`python global_embedding.py`来生成全局论文向量表示.  \n",
    "\n",
    "# 建立论文图  prepare local data  \n",
    "请到`local`目录下执行`prepare_localdata.py`文件:    \n",
    "\n",
    "```sh\n",
    "cd local \n",
    "python prepare_localdata.py \n",
    "\n",
    "```  "
   ]
  },
  {
   "cell_type": "markdown",
   "metadata": {},
   "source": [
    "# 并查集算法 Union-Find"
   ]
  },
  {
   "cell_type": "code",
   "execution_count": 5,
   "metadata": {},
   "outputs": [],
   "source": [
    "ass_train = json.load(open(assignments_train_path))\n",
    "ass_val = json.load(open(VAL_NAME2PUB))\n",
    "testname2ids = json.load(open(TEST_NAME2PUB))\n",
    "valname2ids = ass_val\n",
    "trainname2ids = defaultdict(list)\n",
    "for name, pubs in ass_train.items():\n",
    "    trainname2ids[name] = [i for pub in pubs for i in pub]\n",
    "\n",
    "pos_pair = json.load(open(pos_pair_path))"
   ]
  },
  {
   "cell_type": "code",
   "execution_count": 7,
   "metadata": {},
   "outputs": [],
   "source": [
    "for name in pos_pair.keys():\n",
    "    file_path = './output/graph-%s/%s_pubs_network.txt'%(IDF_THRESHOLD, name)\n",
    "    for line in open(file_path):\n",
    "        a, b = line.strip().split()\n",
    "        pos_pair[name].append([a,b])"
   ]
  },
  {
   "cell_type": "markdown",
   "metadata": {},
   "source": [
    "## 训练集结果"
   ]
  },
  {
   "cell_type": "code",
   "execution_count": 8,
   "metadata": {},
   "outputs": [
    {
     "name": "stdout",
     "output_type": "stream",
     "text": [
      "li_ma 52493 (0.10872694531106625, 0.8502086930338489, 0.19279832842594774) 526 220\n",
      "min_chen 63928 (0.49958197755879524, 0.7039837050802275, 0.5844260543919646) 300 307\n",
      "gang_zhang 17338 (0.12374652574015438, 0.662967057644803, 0.20856350213435426) 255 138\n",
      "j_lin 44543 (0.03481354115181934, 0.2497877228909645, 0.06111002492790458) 266 204\n",
      "xiang_gao 30146 (0.044005678830581554, 0.3220848861150844, 0.07743200951747248) 232 192\n",
      "xi_zhang 35787 (0.027731618052245652, 0.550809512302597, 0.05280467788124466) 407 177\n",
      "jie_zhou 34703 (0.1549374380510649, 0.5016964543321651, 0.2367576947068776) 372 230\n",
      "feng_zhu 23883 (0.08619152506817705, 0.7286632675681667, 0.15414917813679743) 218 124\n",
      "bing_liu 32631 (0.11831675931241287, 0.920032605802502, 0.20966984723539472) 420 260\n",
      "di_wu 62729 (0.08747583495281863, 0.6287938373578822, 0.15358535496448616) 478 255\n",
      "liu_yang 24355 (0.5385984403896588, 0.9001567258984818, 0.6739478961190927) 333 211\n",
      "lei_wu 9719 (0.017736461734140636, 0.2404258700143016, 0.03303583613089877) 285 185\n",
      "z_wu 138961 (0.11633373195171809, 0.8902312581706713, 0.20577692564188063) 302 236\n",
      "yan_gao 27305 (0.10830818403344142, 0.5860325514087149, 0.18282701327365808) 366 225\n",
      "y_feng 4690 (0.19649456826072348, 0.9829131652661064, 0.3275154004106776) 243 172\n",
      "jing_jin 16213 (0.051591444867398466, 0.9749441354062663, 0.0979971421880899) 238 114\n",
      "jin_he 28604 (0.045728277413804516, 0.7326382753136597, 0.08608357124318713) 338 61\n",
      "chen_chen 51727 (0.3390151587697805, 0.7101088677469047, 0.4589308117217489) 543 260\n",
      "h_yu 1618 (0.007445371749142916, 0.18777292576419213, 0.014322829924721869) 310 222\n",
      "li_guo 29110 (0.3059872426050008, 0.9948691338549991, 0.46802593818930666) 249 163\n",
      "shuai_zhang 10693 (0.09921485192338644, 0.5072256936408753, 0.1659662186323384) 288 142\n",
      "ming_chen 77787 (0.3650508019932151, 0.9866789839791454, 0.5329289302481978) 282 199\n",
      "jue_wang 19505 (0.09575071190725983, 0.9153049147650588, 0.1733655298263277) 232 133\n",
      "w_huang 2124 (0.06110070183238591, 0.4199039720646006, 0.10667849519004186) 222 225\n",
      "cheng_zhu 6453 (0.00788944191464577, 0.2609457092819615, 0.015315824638947423) 239 52\n",
      "s_liu 263406 (0.1052618498203863, 0.960605056091561, 0.1897330043557369) 588 358\n",
      "y_guo 254615 (0.17393361643645702, 0.980462445422266, 0.2954538473352788) 324 233\n",
      "xi_liu 7155 (0.028618516953942633, 0.1278575225943647, 0.0467687281531214) 216 133\n",
      "gang_chen 171032 (0.21549854657626694, 0.9517254540161386, 0.3514243229680383) 332 307\n",
      "z_zhou 10260 (0.046225468423563475, 0.8983375959079284, 0.08792652971822834) 252 195\n",
      "jia_li 44982 (0.015703695025966555, 0.561146464561214, 0.03055238105741346) 551 256\n",
      "yi_chen 38812 (0.11713237791132974, 0.9949094636146225, 0.2095894361668165) 444 209\n",
      "c_h_chen 23380 (0.017975864736067333, 0.9680222142601218, 0.03529628861501178) 368 189\n",
      "qing_li 92192 (0.1199075338755549, 0.9751624306764252, 0.21355589318594917) 561 273\n",
      "xin_wu 7747 (0.012386008612682598, 0.461735195750541, 0.024124869584881612) 258 113\n",
      "y_luo 2068 (0.01963032450837329, 0.6023454157782516, 0.038021534320323014) 276 197\n",
      "lei_shi 55912 (0.125887738572163, 0.48367800853734993, 0.19977871453763021) 454 291\n",
      "ping_zhang 140037 (0.16120965923902006, 0.8802965419191897, 0.2725136065330506) 569 305\n",
      "liang_liu 24802 (0.17721882369023614, 0.8044179697195334, 0.29044959868262604) 268 158\n",
      "xing_liu 11123 (0.019710699342498507, 0.4459108610990913, 0.03775261140546506) 254 130\n",
      "jie_zhu 13568 (0.11313228770782101, 0.8763854455301152, 0.2003955806678185) 218 149\n",
      "kun_zhang 19737 (0.3886389287781589, 0.8195328857707133, 0.5272468352414448) 324 180\n",
      "bo_jiang 36414 (0.3194522520796172, 0.7574794820094851, 0.4493850794297632) 231 150\n",
      "lin_zhou 32552 (0.11073024315709516, 0.8695670142859111, 0.1964452439343201) 223 115\n",
      "y_shi 4846 (0.2454054816748386, 0.844911343211076, 0.38034059535849984) 281 233\n",
      "qing_liu 58291 (0.23549413576384065, 0.8037065721639404, 0.3642572280322563) 233 206\n",
      "kun_li 13008 (0.43828415357223116, 0.9958053658325838, 0.6086728980039636) 229 185\n",
      "lan_wang 15532 (0.015664347060006772, 0.8969237498177577, 0.030790944899624122) 436 132\n",
      "min_yang 44047 (0.11394141129831248, 0.6209569229862012, 0.1925510097376642) 315 205\n",
      "yuanyuan_liu 5330 (0.0215661189293369, 0.9650557620817843, 0.04218942989013847) 226 106\n",
      "li_he 14993 (0.294961257502784, 0.9538275705873471, 0.45058407527803984) 209 138\n",
      "bo_zhou 38874 (0.4695378027460763, 0.8876003965734274, 0.6141775983206512) 278 159\n",
      "xue_wang 15382 (0.04660729988982443, 0.7857538448430111, 0.0879951336458296) 321 155\n",
      "m_li 10835 (0.01738269744298218, 0.8088214832336162, 0.034033957845433255) 600 372\n",
      "bin_yu 20690 (0.06198538728087311, 0.48670422454450324, 0.10996581382054442) 222 121\n",
      "jie_sun 23401 (0.07846437562203618, 0.5336253126127584, 0.1368119011807714) 286 216\n",
      "yuanyuan_zhang 10167 (0.21121062174848756, 0.5836250190229798, 0.3101718061262898) 240 132\n",
      "wei_song 21794 (0.2787012707843097, 0.858847240720774, 0.42083799499993096) 277 166\n",
      "s_huang 7293 (0.06367246694884256, 0.9199697999244998, 0.11910172763482639) 210 151\n",
      "yao_zhang 22605 (0.057091104603515144, 0.6273853684653333, 0.10465845096816483) 294 124\n",
      "qi_li 99985 (0.16460894463070366, 0.8781042214513688, 0.27724558175857617) 427 254\n",
      "li_jiang 30776 (0.3071160733903977, 0.6596171005059596, 0.4191001598343163) 291 169\n",
      "xiang_wang 21290 (0.18533351258411224, 0.8668463229558188, 0.30537683479095085) 379 175\n",
      "lei_zhu 13015 (0.02653368497514425, 0.6328570094330812, 0.05093195480315167) 299 195\n",
      "fei_gao 37430 (0.05339818025422609, 0.7223069077829076, 0.09944468601659602) 360 185\n",
      "zhang_lei 1262 (0.009252724849055123, 0.23694779116465864, 0.017809976605539204) 233 152\n",
      "jing_yu 10986 (0.13982038330999025, 0.9533459250498667, 0.24387358382364235) 287 176\n",
      "zhi_wang 60229 (0.05669041643563164, 0.7491668196714014, 0.10540472203761064) 357 165\n",
      "m_yang 378392 (0.17277886884920993, 0.647809873807658, 0.272798909874004) 234 204\n",
      "ming_xu 27803 (0.0901566260389611, 0.8007984812105645, 0.16206717625975497) 304 155\n",
      "li_huang 11904 (0.020199555498065593, 0.1933423377792785, 0.036577640313659524) 301 167\n",
      "yan_liang 23197 (0.06411364110728726, 0.7232778447048516, 0.11778632863531584) 222 128\n",
      "xiaoping_wu 5047 (0.008764836311464718, 0.7194860813704497, 0.017318694912633367) 306 41\n",
      "kai_chen 15325 (0.23265369820937395, 0.7035620816886906, 0.3496764821515436) 285 194\n",
      "qing_zhang 48482 (0.14552939118461963, 0.954728534091498, 0.2525608934433293) 472 233\n",
      "xi_li 34295 (0.025955258587784916, 0.5897903664586334, 0.04972235563302376) 259 133\n",
      "c_c_wang 70016 (0.054317832377887974, 0.883927091963546, 0.10234641801926249) 262 146\n",
      "c_yang 37818 (0.07023191532393987, 0.825066825066825, 0.12944511319069624) 331 198\n",
      "xiao_liu 19983 (0.11828052277235415, 0.8447266894967272, 0.20750564099724528) 343 169\n",
      "zhi_gang_zhang 3291 (0.014302962756571004, 0.8927536231884058, 0.02815485168426345) 373 116\n",
      "l_zhao 76132 (0.14627709122523752, 0.8396257240457449, 0.24914830697088156) 340 272\n",
      "jin_xu 32811 (0.0663205287407127, 0.5785023945780529, 0.11899882370409624) 272 166\n",
      "t_wang 279933 (0.09657790106871532, 0.5588083540839446, 0.16469230934518114) 357 248\n",
      "qing_yang 60886 (0.5428232306633786, 0.8703489020091606, 0.6686313604266525) 290 193\n",
      "bin_zhao 34868 (0.012847095255890456, 0.8038467985249749, 0.025290005154768293) 422 187\n",
      "dan_wu 14209 (0.17205724016935267, 0.8605741380420091, 0.28677805899932796) 230 138\n",
      "chen_liu 13691 (0.0970130497185679, 0.9465651318124617, 0.17598905730218103) 211 147\n",
      "yi_jiang 23469 (0.049849406591085034, 0.923025452299457, 0.09459031785047418) 408 105\n",
      "zhe_zhang 38627 (0.01882859986145936, 0.4529691350780425, 0.03615436854553544) 348 168\n",
      "xia_zhang 33407 (0.12549363843971673, 0.9916070184328878, 0.2227916918317481) 333 157\n",
      "qian_chen 32286 (0.2762653374233129, 0.8372822704559247, 0.4154507042704706) 332 167\n",
      "jing_huang 20209 (0.31771532244608275, 0.8466830543769278, 0.46204835902461694) 336 199\n",
      "hui_yu 16967 (0.1650424706896307, 0.7481412174757698, 0.2704276840621466) 248 151\n",
      "dong_zhang 33503 (0.26957957172810837, 0.8379183103913753, 0.4079207064959014) 318 159\n",
      "jing_tian 11927 (0.022500663658083356, 0.287516960651289, 0.04173519129449998) 213 111\n",
      "hui_gao 13317 (0.20109791347858827, 0.6122954608486642, 0.302759632658472) 220 126\n",
      "hong_zhao 42366 (0.2108632717895418, 0.9899191286260497, 0.3476692966134362) 277 172\n",
      "yong_yu 41601 (0.07188442070198979, 0.7132091721390893, 0.13060513713539398) 280 137\n"
     ]
    },
    {
     "name": "stdout",
     "output_type": "stream",
     "text": [
      "f_liu 213174 (0.11356153432725269, 0.8871117592407475, 0.2013479786992673) 379 265\n",
      "rui_zhang 95868 (0.23518653923004032, 0.9360567206078182, 0.37592180581384904) 371 310\n",
      "0.21421668508321123\n"
     ]
    }
   ],
   "source": [
    "train_gen = {}\n",
    "for name, ids in trainname2ids.items():\n",
    "    uf = UnionFind(ids)\n",
    "    for pair in pos_pair[name]:\n",
    "        uf.union(*pair)\n",
    "    train_gen[name] = [list(i) for i in uf.components()]\n",
    "metric = []\n",
    "for k, v in ass_train.items():\n",
    "    ids, labs = tools.assign2label(v)\n",
    "    _, pre_labs = tools.assign2label(train_gen[k])\n",
    "\n",
    "    f1 = tools.pairwise_precision_recall_f1(pre_labs, labs)\n",
    "    \n",
    "    print(k,len(pos_pair[k]), f1, len(ass_train[k]), len(train_gen[k]))\n",
    "    metric.append(f1[-1])\n",
    "print(np.mean(metric))"
   ]
  },
  {
   "cell_type": "markdown",
   "metadata": {},
   "source": [
    "## 验证集结果"
   ]
  },
  {
   "cell_type": "code",
   "execution_count": 10,
   "metadata": {},
   "outputs": [],
   "source": [
    "val = {}\n",
    "from scipy.special import comb\n",
    "ass_val = json.load(open(assignments_val_path))\n",
    "valname2ids = {k: [j for i in v for j in i] for k, v in ass_val.items()}\n",
    "for name, ids in valname2ids.items():\n",
    "    if len(ids) == 0:\n",
    "        val[name] = []\n",
    "        continue\n",
    "    uf = UnionFind(ids)\n",
    "    for pair in pos_pair[name]:\n",
    "        if (pair[0] in ids) and (pair[1] in ids):\n",
    "            uf.union(*pair)\n",
    "#     print('a')\n",
    "    val[name] = [list(i) for i in uf.components()]\n",
    "json.dump(val, open('res_union_find_val.json', 'w'))"
   ]
  },
  {
   "cell_type": "markdown",
   "metadata": {},
   "source": [
    "## 生成测试集答案"
   ]
  },
  {
   "cell_type": "code",
   "execution_count": 11,
   "metadata": {},
   "outputs": [],
   "source": [
    "test = {}\n",
    "\n",
    "for name, ids in testname2ids.items():\n",
    "    \n",
    "    uf = UnionFind(ids)\n",
    "    for pair in pos_pair[name]:\n",
    "        uf.union(*pair)\n",
    "    test[name] = [list(i) for i in uf.components()]\n",
    "\n",
    "json.dump(test, open('res_union_find_test.json', 'w'))"
   ]
  },
  {
   "cell_type": "markdown",
   "metadata": {},
   "source": [
    "# 聚类  \n",
    "\n",
    "另一种解法是聚类, 这里我们以半监督聚类演示一下使用方法. 半监督聚类和聚类的调用入口均在`opendac.py`中.  \n",
    "\n",
    "在使用聚类算法前, 需要先生成精调后的paper的向量表征, 即需要:   \n",
    "\n",
    "```sh\n",
    "cd local/gae\n",
    "python train.py \n",
    "```    \n",
    "\n",
    "## Semi-supervised clustering"
   ]
  },
  {
   "cell_type": "code",
   "execution_count": null,
   "metadata": {},
   "outputs": [],
   "source": [
    "cluster_num = 15  \n",
    "\n",
    "#Generate train\n",
    "pubs_train = json.load(open(pubs_train_path))\n",
    "local_output = pkl.load(open(local_output_path,'rb'))                                                                                                                           \n",
    "p = mkl.Pool(CPU_COUNT)\n",
    "length = len(pubs_train)\n",
    "res = p.starmap(clustering_with_const,  zip( pubs_train.keys(), ['PCKMeans']*length, [cluster_num]*length) ) \n",
    "J = dict(zip(pubs_train.keys(), res))\n",
    "json.dump(J, open('assignment_train_result_for_val_PCK.json', 'w'))  \n",
    "\n",
    "\n",
    "\n",
    "#Generate validate\n",
    "pubs_train = json.load(open(pubs_validate_path))\n",
    "local_output = pkl.load(open(local_output_path,'rb'))                                                                                                                                                                         \n",
    "p = mkl.Pool(CPU_COUNT)                                \n",
    "length = len(pubs_validate)\n",
    "res = p.starmap(clustering_with_const,  zip( pubs_validate.keys(), ['PCKMeans']*length, [cluster_num]*length) ) \n",
    "J = dict(zip(pubs_validate.keys(), res))                                                                                                                                                                                      \n",
    "json.dump(J, open('assignment_validate_result_PCK.json', 'w'))      \n",
    "\n",
    "\n",
    "#Generate test\n",
    "pubs_test = json.load(open(TEST_PATH))\n",
    "local_output = pkl.load(open(local_output_path,'rb'))                                                                                                                           \n",
    "p = mkl.Pool(CPU_COUNT)\n",
    "length = len(pubs_test)\n",
    "res = p.starmap(clustering_with_const,  zip( pubs_test.keys(), ['PCKMeans']*length, [cluster_num]*length) ) \n",
    "J = dict(zip(pubs_test.keys(), res))\n",
    "json.dump(J, open('assignment_test_PC_2.json', 'w'))  "
   ]
  }
 ],
 "metadata": {
  "kernelspec": {
   "display_name": "Python 3",
   "language": "python",
   "name": "python3"
  },
  "language_info": {
   "codemirror_mode": {
    "name": "ipython",
    "version": 3
   },
   "file_extension": ".py",
   "mimetype": "text/x-python",
   "name": "python",
   "nbconvert_exporter": "python",
   "pygments_lexer": "ipython3",
   "version": "3.6.4"
  }
 },
 "nbformat": 4,
 "nbformat_minor": 2
}
